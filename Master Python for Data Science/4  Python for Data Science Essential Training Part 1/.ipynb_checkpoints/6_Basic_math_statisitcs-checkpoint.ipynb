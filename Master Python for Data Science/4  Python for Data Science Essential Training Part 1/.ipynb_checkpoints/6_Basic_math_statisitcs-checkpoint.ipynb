{
 "cells": [
  {
   "cell_type": "markdown",
   "id": "daf04631",
   "metadata": {},
   "source": [
    "# BASIC MATH AND STATISTICS"
   ]
  },
  {
   "cell_type": "markdown",
   "id": "6a84260a",
   "metadata": {},
   "source": [
    "# 1. Using Numpy to Perform arithimeti operation on data"
   ]
  },
  {
   "cell_type": "code",
   "execution_count": 8,
   "id": "22f496e9",
   "metadata": {},
   "outputs": [],
   "source": [
    "import numpy as np\n",
    "from numpy.random import rand"
   ]
  },
  {
   "cell_type": "code",
   "execution_count": 6,
   "id": "508aedca",
   "metadata": {},
   "outputs": [],
   "source": [
    "np.set_printoptions(precision=2)\n"
   ]
  },
  {
   "cell_type": "markdown",
   "id": "32d7b0bc",
   "metadata": {},
   "source": [
    "# Creating Arrays using list"
   ]
  },
  {
   "cell_type": "code",
   "execution_count": 10,
   "id": "c6cfeb47",
   "metadata": {},
   "outputs": [
    {
     "data": {
      "text/plain": [
       "array([1, 2, 3, 4, 5, 6])"
      ]
     },
     "execution_count": 10,
     "metadata": {},
     "output_type": "execute_result"
    }
   ],
   "source": [
    "a = np.array([1,2,3,4,5,6])\n",
    "a"
   ]
  },
  {
   "cell_type": "code",
   "execution_count": 12,
   "id": "02f30e7f",
   "metadata": {},
   "outputs": [
    {
     "data": {
      "text/plain": [
       "array([[10, 20, 30],\n",
       "       [40, 50, 60]])"
      ]
     },
     "execution_count": 12,
     "metadata": {},
     "output_type": "execute_result"
    }
   ],
   "source": [
    "b = np.array([[10,20,30],[40,50,60]])\n",
    "b"
   ]
  },
  {
   "cell_type": "code",
   "execution_count": 22,
   "id": "baa6930f",
   "metadata": {},
   "outputs": [
    {
     "data": {
      "text/plain": [
       "array([31.32, 20.96, 10.04,  6.69, 14.8 ,  4.23])"
      ]
     },
     "execution_count": 22,
     "metadata": {},
     "output_type": "execute_result"
    }
   ],
   "source": [
    "np.random.seed(25)\n",
    "c= 36 *np.random.rand(6)\n",
    "c\n"
   ]
  },
  {
   "cell_type": "code",
   "execution_count": 24,
   "id": "b778a594",
   "metadata": {},
   "outputs": [
    {
     "data": {
      "text/plain": [
       "array([ 1,  2,  3,  4,  5,  6,  7,  8,  9, 10, 11, 12, 13, 14, 15, 16, 17,\n",
       "       18, 19, 20, 21, 22, 23, 24, 25, 26, 27, 28, 29, 30, 31, 32, 33, 34])"
      ]
     },
     "execution_count": 24,
     "metadata": {},
     "output_type": "execute_result"
    }
   ],
   "source": [
    "d = np.arange(1,35)\n",
    "d"
   ]
  },
  {
   "cell_type": "markdown",
   "id": "48472976",
   "metadata": {},
   "source": [
    "# Performing arthimetic on arrays"
   ]
  },
  {
   "cell_type": "code",
   "execution_count": 27,
   "id": "bf427a22",
   "metadata": {},
   "outputs": [
    {
     "data": {
      "text/plain": [
       "array([10, 20, 30, 40, 50, 60])"
      ]
     },
     "execution_count": 27,
     "metadata": {},
     "output_type": "execute_result"
    }
   ],
   "source": [
    "a*10"
   ]
  },
  {
   "cell_type": "code",
   "execution_count": 26,
   "id": "d1f781c3",
   "metadata": {},
   "outputs": [
    {
     "data": {
      "text/plain": [
       "array([32.32, 22.96, 13.04, 10.69, 19.8 , 10.23])"
      ]
     },
     "execution_count": 26,
     "metadata": {},
     "output_type": "execute_result"
    }
   ],
   "source": [
    "c+a"
   ]
  },
  {
   "cell_type": "code",
   "execution_count": 29,
   "id": "106778e3",
   "metadata": {},
   "outputs": [
    {
     "data": {
      "text/plain": [
       "array([31.32, 41.92, 30.11, 26.77, 74.  , 25.35])"
      ]
     },
     "execution_count": 29,
     "metadata": {},
     "output_type": "execute_result"
    }
   ],
   "source": [
    "c*a"
   ]
  },
  {
   "cell_type": "code",
   "execution_count": 30,
   "id": "dd40b414",
   "metadata": {},
   "outputs": [
    {
     "data": {
      "text/plain": [
       "array([31.32, 10.48,  3.35,  1.67,  2.96,  0.7 ])"
      ]
     },
     "execution_count": 30,
     "metadata": {},
     "output_type": "execute_result"
    }
   ],
   "source": [
    "c/a"
   ]
  },
  {
   "cell_type": "code",
   "execution_count": null,
   "id": "ec71cbd1",
   "metadata": {},
   "outputs": [],
   "source": []
  }
 ],
 "metadata": {
  "kernelspec": {
   "display_name": "Python 3 (ipykernel)",
   "language": "python",
   "name": "python3"
  },
  "language_info": {
   "codemirror_mode": {
    "name": "ipython",
    "version": 3
   },
   "file_extension": ".py",
   "mimetype": "text/x-python",
   "name": "python",
   "nbconvert_exporter": "python",
   "pygments_lexer": "ipython3",
   "version": "3.9.7"
  }
 },
 "nbformat": 4,
 "nbformat_minor": 5
}
