{
 "cells": [
  {
   "cell_type": "markdown",
   "id": "a175f5e1",
   "metadata": {},
   "source": [
    "# Introduction to Data Science\n",
    "\n",
    "- Programming \n",
    "- Math Statistice\n",
    "- Subject matter statistics\n"
   ]
  },
  {
   "cell_type": "markdown",
   "id": "e3528cb0",
   "metadata": {},
   "source": [
    "#### ML Algorithim by function\n",
    "\n",
    "- Regression\n",
    "- Clustering\n",
    "- Dimension reduction\n",
    "- Association rules\n",
    "- Deep learning\n",
    "- Instance based\n",
    "- Decision Trees\n",
    "- Bayesian\n",
    "- Ensemble\n",
    "- Regularization\n",
    "\n",
    "\n",
    "#### ML Learning Lingo\n",
    "\n",
    ". Feature - it is synoumous with the terms variable column , attribute and field\n",
    "\n",
    ". Instane - it is synonymous with the terms row , obseration data point value and case\n",
    "\n",
    ". Target  - it variable is synonymous with the terms predictant and dependent variable\n",
    "\n",
    ". Data    - it is synonymous to refer to a predictor or set of predict variable\n",
    "\n",
    "\n",
    "#### ML Learning Test and Training sets\n",
    "\n",
    "- 4/5 Targets - Training set/Use it to train your model\n",
    "- 1/5 Targets - Test set (for testing to see how well the model performs)\n",
    "\n",
    "#### Types of ML Methods\n",
    "\n",
    "- Supervised Learning - Making prediction straight from labeled data\n",
    "- Unsupervised Learning - Making prediction straight from unlabled data\n",
    "- Semi supervised Learning - User both lable and unlabled data to make set of prediction\n",
    "\n",
    "\n",
    "#### Supervised Learning\n",
    "\n",
    "- Regression\n",
    "- Instance based classification\n",
    "\n",
    "#### Unsupervised learning\n",
    "\n",
    "- Clustering \n",
    "- Dimenson reduction\n",
    "\n",
    "\n",
    "#### Example of grouping by use case  - K Means clustering\n",
    " - crime Prediction and prevention\n",
    " - document classifcation\n",
    " - Fraud  prediction\n",
    "    \n"
   ]
  },
  {
   "cell_type": "markdown",
   "id": "d8cf72e3",
   "metadata": {},
   "source": [
    "### Linear Regression \n",
    "\n",
    "Linear Regression is a machine learning algorithm based on supervised learning. It performs a regression task. Regression models a target prediction value based on independent variables. It is mostly used for finding out the relationship between variables and numerical \n",
    "\n",
    "- Simple Liner Regresssion - One predictor and one predicant\n",
    "- Multiple Linear regression - multiple predictor and one predicant\n",
    "\n",
    "the independent variable x. is called the “predictor”. The dependent variable y is called. the “predictand”\n",
    "\n",
    "Example of Linear Regression\n",
    "- sale forecasting\n",
    "- Resources consumption\n",
    "- Supply forecasting \n",
    "- telecome service lifecycle assumption\n",
    "\n",
    "\n",
    "LR Assumptions\n",
    "- All variable are continous numeric not categorical\n",
    "- data is free of missing values and outliers\n",
    "- There's linear relationship between predictor and predictant\n",
    "- all predictors are independent of each other.\n",
    "- Residual are distributed\n"
   ]
  },
  {
   "cell_type": "markdown",
   "id": "db6143cc",
   "metadata": {},
   "source": [
    "#### Simple Linear Regresssion"
   ]
  },
  {
   "cell_type": "code",
   "execution_count": 2,
   "id": "a1aacefe",
   "metadata": {},
   "outputs": [],
   "source": [
    "import numpy as np\n",
    "import pandas as pd\n",
    "import matplotlib.pyplot as plt\n",
    "import sklearn\n",
    "\n",
    "from pylab import rcParams\n",
    "\n",
    "from sklearn.linear_model import LinearRegression\n",
    "from sklearn.preprocessing import scale"
   ]
  },
  {
   "cell_type": "code",
   "execution_count": null,
   "id": "bf3dd7fb",
   "metadata": {},
   "outputs": [],
   "source": [
    "%matplotlib inline"
   ]
  }
 ],
 "metadata": {
  "kernelspec": {
   "display_name": "Python 3 (ipykernel)",
   "language": "python",
   "name": "python3"
  },
  "language_info": {
   "codemirror_mode": {
    "name": "ipython",
    "version": 3
   },
   "file_extension": ".py",
   "mimetype": "text/x-python",
   "name": "python",
   "nbconvert_exporter": "python",
   "pygments_lexer": "ipython3",
   "version": "3.9.7"
  }
 },
 "nbformat": 4,
 "nbformat_minor": 5
}
