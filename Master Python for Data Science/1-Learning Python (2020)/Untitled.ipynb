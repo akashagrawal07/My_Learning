{
 "cells": [
  {
   "cell_type": "markdown",
   "id": "6357c450",
   "metadata": {},
   "source": [
    "# global Variable in python"
   ]
  },
  {
   "cell_type": "code",
   "execution_count": 52,
   "id": "d0a8bc9a",
   "metadata": {},
   "outputs": [
    {
     "name": "stdout",
     "output_type": "stream",
     "text": [
      "Hello world\n"
     ]
    }
   ],
   "source": [
    "\n",
    "def func():\n",
    "    global f\n",
    "    f = \"Hello world\"\n",
    "    \n",
    "func()\n",
    "print(f)\n",
    "del f  # it will deletee global variable  so next will give error\n",
    "# print(f)\n",
    "    "
   ]
  },
  {
   "cell_type": "markdown",
   "id": "50055aae",
   "metadata": {},
   "source": [
    "# Classes in python"
   ]
  },
  {
   "cell_type": "code",
   "execution_count": 59,
   "id": "6c932cd6",
   "metadata": {},
   "outputs": [
    {
     "name": "stdout",
     "output_type": "stream",
     "text": [
      "set number function\n",
      "get number function\n"
     ]
    },
    {
     "data": {
      "text/plain": [
       "7"
      ]
     },
     "execution_count": 59,
     "metadata": {},
     "output_type": "execute_result"
    }
   ],
   "source": [
    "class myexample():\n",
    "    def setNum(self,i):\n",
    "        print(\"set number function\")\n",
    "        self.x = i\n",
    "    def getNum(self):\n",
    "        print(\"get number function\")\n",
    "        return self.x \n",
    "    \n",
    "\n",
    "obj = myexample()\n",
    "obj.setNum(7)\n",
    "obj.getNum()\n",
    "    "
   ]
  },
  {
   "cell_type": "code",
   "execution_count": 3,
   "id": "0392acd3",
   "metadata": {},
   "outputs": [
    {
     "name": "stdout",
     "output_type": "stream",
     "text": [
      "basecls - in func1\n",
      "derivedcls - in func1\n",
      "derivedcls - in func2\n"
     ]
    }
   ],
   "source": [
    "class basecls():\n",
    "    def func1(self):\n",
    "        print(\"basecls - in func1\")\n",
    "    def func2(self,strr):\n",
    "        print(\"basecls - in func2\" + str(strr))\n",
    "\n",
    "class derivedcls(basecls):\n",
    "    def func1(self):\n",
    "        basecls.func1(self)\n",
    "        print(\"derivedcls - in func1\")\n",
    "    def func2(self):\n",
    "        print(\"derivedcls - in func2\")\n",
    "    \n",
    "        \n",
    "# c = basecls()\n",
    "# c.func1()\n",
    "# c.func2(\"blah blah\")\n",
    "\n",
    "c1 = derivedcls()\n",
    "c1.func1()\n",
    "c1.func2()"
   ]
  },
  {
   "cell_type": "markdown",
   "id": "1b577537",
   "metadata": {},
   "source": [
    "# Import library"
   ]
  },
  {
   "cell_type": "code",
   "execution_count": null,
   "id": "538b03fd",
   "metadata": {},
   "outputs": [],
   "source": [
    "import math\n",
    "\n",
    "print(\"Square root of 16 \", math.sqrt(16))\n",
    "\n",
    "print(\"value of Pi-\",math.pi)"
   ]
  },
  {
   "cell_type": "markdown",
   "id": "c33608c9",
   "metadata": {},
   "source": [
    "# date time library"
   ]
  },
  {
   "cell_type": "code",
   "execution_count": 4,
   "id": "c697cf62",
   "metadata": {},
   "outputs": [
    {
     "name": "stdout",
     "output_type": "stream",
     "text": [
      "Today Date - 2023-06-29\n",
      "Date Component- 29 6 2023\n",
      "Weekday- 3\n",
      "Weekday - Thur\n",
      "current time 2023-06-29 11:12:31.919910\n",
      "11:12:31.919910\n"
     ]
    }
   ],
   "source": [
    "from datetime import date\n",
    "from datetime import time\n",
    "from datetime import datetime\n",
    "\n",
    "\n",
    "today = date.today()\n",
    "print(\"Today Date -\",today)\n",
    "print(\"Date Component-\",today.day,today.month,today.year)\n",
    "print(\"Weekday-\",today.weekday())\n",
    "days = ['Mon','Tue','Wed','Thur','Fri','Sat','Sun']\n",
    "print(\"Weekday -\",days[today.weekday()])\n",
    "\n",
    "\n",
    "today = datetime.now()\n",
    "print('current time',today)\n",
    "\n",
    "t = datetime.time(datetime.now())\n",
    "print(t)"
   ]
  },
  {
   "cell_type": "markdown",
   "id": "6900826b",
   "metadata": {},
   "source": [
    "# Formating time output"
   ]
  },
  {
   "cell_type": "code",
   "execution_count": 5,
   "id": "10bbd0dd",
   "metadata": {},
   "outputs": [
    {
     "name": "stdout",
     "output_type": "stream",
     "text": [
      "Time is - 2023/29/06 11/13/51  Thursday June\n",
      "Locale date and time-Thu Jun 29 11:13:51 2023\n",
      "Locale date -06/29/23\n",
      "Locale time -11:13:51\n",
      "12 Hour Format-11:13:51.896086 AM\n",
      "24 Format -11:13:51.896086 AM\n"
     ]
    }
   ],
   "source": [
    "from datetime import date\n",
    "from datetime import time\n",
    "from datetime import datetime\n",
    "\n",
    "now = datetime.now()\n",
    "\n",
    "# format - \"%m/%d/%Y, %H:%M:%S\"\n",
    "print(now.strftime('Time is - %Y/%d/%m %H/%M/%S  %A %B'  ))\n",
    "\n",
    "#locale time\n",
    "\n",
    "print(now.strftime('Locale date and time-%c'))\n",
    "print(now.strftime('Locale date -%x'))\n",
    "print(now.strftime('Locale time -%X'))\n",
    "\n",
    "#time in 24/12 format\n",
    "\n",
    "print(now.strftime('12 Hour Format-%I:%M:%S.%f %p'))\n",
    "\n",
    "print(now.strftime('24 Format -%H:%M:%S.%f %p'))\n"
   ]
  },
  {
   "cell_type": "markdown",
   "id": "a3f24474",
   "metadata": {},
   "source": [
    "# time delta object"
   ]
  },
  {
   "cell_type": "code",
   "execution_count": null,
   "id": "f8a9803b",
   "metadata": {},
   "outputs": [],
   "source": [
    "from datetime import date\n",
    "from datetime import time\n",
    "from datetime import datetime\n",
    "from datetime import timedelta\n",
    "\n",
    "print(timedelta(days=365,hours=5,minutes=10))\n",
    "\n",
    "\n",
    "\n",
    "now = datetime.now()\n",
    "print('Current time-',now)\n",
    "\n",
    "print(\"Date after One year -\",str(now + timedelta(days=365)))\n",
    "\n",
    "print(\"Date after 2 days and 3 weeks - \",str(now + timedelta(days=2,weeks=3)))\n",
    "\n",
    "\n",
    "t = now - timedelta(days=2,weeks=3)\n",
    "\n",
    "time = t.strftime('%Y/%d/%m %H/%M/%S  %A %B')\n",
    "\n",
    "print(time)\n",
    "\n",
    "t = date(year=2032,day =21,month=7)\n",
    "time = t.strftime('%Y/%d/%m %H/%M/%S  %A %B')\n",
    "print(time)\n",
    "# How many days to April fool days ?\n",
    "\n",
    "today = date.today()\n",
    "t = date(today.year,day=1,month=4)\n",
    "print(t- today)"
   ]
  },
  {
   "cell_type": "markdown",
   "id": "71720830",
   "metadata": {},
   "source": [
    "# Working with Calendar"
   ]
  },
  {
   "cell_type": "code",
   "execution_count": null,
   "id": "9d19106d",
   "metadata": {},
   "outputs": [],
   "source": [
    "import calendar \n",
    "\n",
    "#create plan text calendar\n",
    "# c = calendar.TextCalendar(calendar.SUNDAY)\n",
    "# str = c.formatmonth(2022,4)\n",
    "# print(str)\n",
    "\n",
    "\n",
    "# # create HTML formatted calendar\n",
    "\n",
    "# hc = calendar.HTMLCalendar(calendar.SUNDAY)\n",
    "# str = hc.formatmonth(2022,4)\n",
    "# print(str)\n",
    "\n",
    "\n",
    "# # iterate any month\n",
    "# c = calendar.TextCalendar(calendar.SUNDAY)\n",
    "# for i in c.itermonthdays(2024,2):\n",
    "#     print(i)\n",
    "\n",
    "today=date.today()\n",
    "days=[\"Mon\",\"Tue\",\"Wed\",\"Thu\",\"Fri\",\"Sat\",\"Sun\"]\n",
    "print(\"Tomorrow will be \"+days[(today.weekday()+1)%7])\n"
   ]
  },
  {
   "cell_type": "markdown",
   "id": "794bb032",
   "metadata": {},
   "source": [
    "# File operation in python"
   ]
  },
  {
   "cell_type": "code",
   "execution_count": 9,
   "id": "9d356005",
   "metadata": {},
   "outputs": [
    {
     "name": "stdout",
     "output_type": "stream",
     "text": [
      "This is line number -0.0\n",
      "\n",
      "\n",
      "\n",
      "This is line number -1.0\n",
      "\n",
      "\n",
      "\n",
      "This is line number -2.0\n",
      "\n",
      "\n",
      "\n",
      "This is line number -3.0\n",
      "\n",
      "\n",
      "\n",
      "This is line number -4.0\n",
      "\n",
      "\n",
      "\n",
      "This is line number -5.0\n",
      "\n",
      "\n",
      "\n",
      "This is line number -6.0\n",
      "\n",
      "\n",
      "\n",
      "This is line number -7.0\n",
      "\n",
      "\n",
      "\n",
      "This is line number -8.0\n",
      "\n",
      "\n",
      "\n",
      "This is line number -9.0\n",
      "\n",
      "\n",
      "\n",
      "This is line number -100.0\n",
      "\n",
      "\n",
      "\n",
      "This is line number -101.0\n",
      "\n",
      "\n",
      "\n",
      "This is line number -102.0\n",
      "\n",
      "\n",
      "\n",
      "This is line number -103.0\n",
      "\n",
      "\n",
      "\n",
      "This is line number -104.0\n",
      "\n",
      "\n",
      "\n",
      "This is line number -105.0\n",
      "\n",
      "\n",
      "\n",
      "This is line number -106.0\n",
      "\n",
      "\n",
      "\n",
      "This is line number -107.0\n",
      "\n",
      "\n",
      "\n",
      "This is line number -108.0\n",
      "\n",
      "\n",
      "\n",
      "This is line number -109.0\n",
      "\n",
      "\n",
      "\n"
     ]
    }
   ],
   "source": [
    "\n",
    "# f = open(\"file.txt\",'w+')\n",
    "\n",
    "# i =0 \n",
    "# for i in range(10):\n",
    "#     f.write(\"This is line number -\" +str(float(i)) +\"\\r\\n\")\n",
    "\n",
    "# f.close()\n",
    "# f = open(\"file.txt\",'a')\n",
    "\n",
    "# i =100\n",
    "# for i in range(100,110):\n",
    "#     f.write(\"This is line number -\" +str(float(i)) +\"\\r\\n\")\n",
    "    \n",
    "# f.close()\n",
    "\n",
    "f = open('file.txt','r')\n",
    "\n",
    "# if f.mode == 'r':\n",
    "#     print(f.read())\n",
    "    \n",
    "if f.mode == 'r':\n",
    "    global fl\n",
    "    fl = f.readlines()\n",
    "for i in fl:\n",
    "    print(i)\n",
    "del fl"
   ]
  },
  {
   "cell_type": "markdown",
   "id": "17727ec5",
   "metadata": {},
   "source": [
    "# working with OS Path Utilities"
   ]
  },
  {
   "cell_type": "code",
   "execution_count": 20,
   "id": "657eee92",
   "metadata": {},
   "outputs": [
    {
     "name": "stdout",
     "output_type": "stream",
     "text": [
      "nt\n",
      "item exist:True\n",
      "RealPath:D:\\Linkedin_myLearning\\Master Python for Data Science\\Learning Python (2020)\\file.txt\n",
      "Item path and name :('D:\\\\Linkedin_myLearning\\\\Master Python for Data Science\\\\Learning Python (2020)', 'file.txt')\n"
     ]
    }
   ],
   "source": [
    "import os\n",
    "from os import path\n",
    "import datetime\n",
    "from datetime import date,time,timedelta\n",
    "import time\n",
    "\n",
    "print(os.name)\n",
    "\n",
    "print(\"item exist:\"+ str(os.path.exists('file.txt')))\n",
    "print(\"RealPath:\"+ str(os.path.realpath('file.txt')))\n",
    "print('Item path and name :'+str(path.split(path.realpath('file.txt'))))"
   ]
  },
  {
   "cell_type": "markdown",
   "id": "85596e0a",
   "metadata": {},
   "source": [
    "# Using file system shell methods"
   ]
  },
  {
   "cell_type": "code",
   "execution_count": 48,
   "id": "1b1d52d3",
   "metadata": {},
   "outputs": [
    {
     "name": "stdout",
     "output_type": "stream",
     "text": [
      "D:\\GIT\\Master Python for Data Science\\1-Learning Python (2020)\\file.txt.bak\n"
     ]
    }
   ],
   "source": [
    "import os\n",
    "from os import path\n",
    "import shutil\n",
    "\n",
    "if path.exists('file.txt'):\n",
    "    rpath = path.realpath('file.txt')\n",
    "    dst = rpath + '.bak'\n",
    "    print(dst)\n",
    "    shutil.copy('file.txt',dst)"
   ]
  },
  {
   "cell_type": "code",
   "execution_count": 3,
   "id": "14443293",
   "metadata": {},
   "outputs": [],
   "source": [
    "import pandas as pd"
   ]
  },
  {
   "cell_type": "code",
   "execution_count": 28,
   "id": "f7af59a1",
   "metadata": {},
   "outputs": [
    {
     "name": "stdout",
     "output_type": "stream",
     "text": [
      "[2, 4]\n"
     ]
    }
   ],
   "source": [
    "list = [1,2,3,4,5,6]\n",
    "print(list[1:5:2])"
   ]
  },
  {
   "cell_type": "markdown",
   "id": "fe49510f",
   "metadata": {},
   "source": [
    "# Lambda Expression"
   ]
  },
  {
   "cell_type": "code",
   "execution_count": 67,
   "id": "2bff9588",
   "metadata": {},
   "outputs": [
    {
     "name": "stdout",
     "output_type": "stream",
     "text": [
      "5\n",
      "-1\n",
      "[1, 3, 5, 7, 9]\n"
     ]
    }
   ],
   "source": [
    "def add(x,y):\n",
    "    return x+y\n",
    "print(add(2,3))\n",
    "\n",
    "add = lambda x,y:x-y\n",
    "\n",
    "print(add(2,3))\n",
    "\n",
    "a = lambda  :[j for j in range(10) if j %2 == 1]\n",
    "print(a())\n",
    "\n"
   ]
  },
  {
   "cell_type": "code",
   "execution_count": 66,
   "id": "b9c8a967",
   "metadata": {},
   "outputs": [
    {
     "name": "stdout",
     "output_type": "stream",
     "text": [
      "1225271306544\n",
      "1225271306576\n",
      "1225271306576\n"
     ]
    }
   ],
   "source": [
    "\n",
    "a =1\n",
    "print(id(a))\n",
    "b=2\n",
    "a=2\n",
    "print(id(a))\n",
    "print(id(b))"
   ]
  },
  {
   "cell_type": "code",
   "execution_count": 160,
   "id": "28f2146f",
   "metadata": {},
   "outputs": [
    {
     "name": "stdout",
     "output_type": "stream",
     "text": [
      "[[0, 1, 2, 3, 4, 5, 6, 7, 8, 9], [0, 1, 2, 3, 4, 5, 6, 7, 8, 9], [0, 1, 2, 3, 4, 5, 6, 7, 8, 9], [0, 1, 2, 3, 4, 5, 6, 7, 8, 9], [0, 1, 2, 3, 4, 5, 6, 7, 8, 9], [0, 1, 2, 3, 4, 5, 6, 7, 8, 9], [0, 1, 2, 3, 4, 5, 6, 7, 8, 9], [0, 1, 2, 3, 4, 5, 6, 7, 8, 9], [0, 1, 2, 3, 4, 5, 6, 7, 8, 9], [0, 1, 2, 3, 4, 5, 6, 7, 8, 9]]\n"
     ]
    }
   ],
   "source": [
    "a= [[i for i in range(10)]  for j in range(10)]\n",
    "print(a)"
   ]
  },
  {
   "cell_type": "code",
   "execution_count": 186,
   "id": "38c78a06",
   "metadata": {},
   "outputs": [
    {
     "name": "stdout",
     "output_type": "stream",
     "text": [
      "[2, 4, 6, 8, 10, 12, 14, 16, 18, 20]\n",
      "[['12 X 1 = 12'], ['12 X 2 = 24'], ['12 X 3 = 36'], ['12 X 4 = 48'], ['12 X 5 = 60'], ['12 X 6 = 72'], ['12 X 7 = 84'], ['12 X 8 = 96'], ['12 X 9 = 108'], ['12 X 10 = 120']]\n"
     ]
    }
   ],
   "source": [
    "table  = lambda x:[j*x for j in range(1,11)]\n",
    "print(table(2))\n",
    "\n",
    "add = lambda inp : [[str(inp) + \" X \" + str(j) + \" = \" + str(j*inp)]  for j in range(1,11)]\n",
    "print(add(12))\n"
   ]
  }
 ],
 "metadata": {
  "kernelspec": {
   "display_name": "Python 3 (ipykernel)",
   "language": "python",
   "name": "python3"
  },
  "language_info": {
   "codemirror_mode": {
    "name": "ipython",
    "version": 3
   },
   "file_extension": ".py",
   "mimetype": "text/x-python",
   "name": "python",
   "nbconvert_exporter": "python",
   "pygments_lexer": "ipython3",
   "version": "3.9.7"
  }
 },
 "nbformat": 4,
 "nbformat_minor": 5
}
