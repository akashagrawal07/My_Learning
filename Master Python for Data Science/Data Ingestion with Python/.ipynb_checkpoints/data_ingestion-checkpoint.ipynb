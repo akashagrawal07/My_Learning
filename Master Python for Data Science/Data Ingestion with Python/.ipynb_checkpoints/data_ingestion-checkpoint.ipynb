{
 "cells": [
  {
   "cell_type": "markdown",
   "id": "925b4d84",
   "metadata": {},
   "source": [
    "# Data Ingestion"
   ]
  },
  {
   "cell_type": "code",
   "execution_count": 33,
   "id": "186bd8b5",
   "metadata": {},
   "outputs": [
    {
     "name": "stdout",
     "output_type": "stream",
     "text": [
      "1000\n",
      "1000\n",
      "1000\n",
      "1000\n",
      "1000\n",
      "1000\n",
      "1000\n",
      "1000\n",
      "1000\n",
      "1000\n"
     ]
    }
   ],
   "source": [
    "import pandas as pd\n",
    "\n",
    "df = pd.read_csv(\"taxi.csv\")\n",
    "# print(\"Columns Type Before -\\n\",df.dtypes)\n",
    "\n",
    "\n",
    "time_col = ['tpep_pickup_datetime','tpep_dropoff_datetime']\n",
    "df = pd.read_csv(\"taxi.csv\",parse_dates=time_col)\n",
    "# print(\"\\nColumns Type after -\\n\",df.dtypes)\n",
    "\n",
    "\n",
    "df_parser = pd.read_csv('taxi.csv',parse_dates=time_col,chunksize=1000)\n",
    "df_parser\n",
    "for df in df_parser:\n",
    "    print(len(df))"
   ]
  }
 ],
 "metadata": {
  "kernelspec": {
   "display_name": "Python 3 (ipykernel)",
   "language": "python",
   "name": "python3"
  },
  "language_info": {
   "codemirror_mode": {
    "name": "ipython",
    "version": 3
   },
   "file_extension": ".py",
   "mimetype": "text/x-python",
   "name": "python",
   "nbconvert_exporter": "python",
   "pygments_lexer": "ipython3",
   "version": "3.9.7"
  }
 },
 "nbformat": 4,
 "nbformat_minor": 5
}
