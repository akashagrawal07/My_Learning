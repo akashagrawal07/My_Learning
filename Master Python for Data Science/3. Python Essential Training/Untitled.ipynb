{
 "cells": [
  {
   "cell_type": "code",
   "execution_count": 12,
   "id": "7b8e4b09",
   "metadata": {},
   "outputs": [
    {
     "name": "stdout",
     "output_type": "stream",
     "text": [
      "<class 'str'>\n",
      "Heelow world 434\n",
      "x is 434\n"
     ]
    }
   ],
   "source": [
    "x = 434\n",
    "print(type(format(x)))\n",
    "print(\"Heelow world {}\".format(x))\n",
    "print(f'x is {x}')"
   ]
  },
  {
   "cell_type": "code",
   "execution_count": 28,
   "id": "75d1367e",
   "metadata": {},
   "outputs": [
    {
     "data": {
      "text/plain": [
       "3"
      ]
     },
     "execution_count": 28,
     "metadata": {},
     "output_type": "execute_result"
    }
   ],
   "source": [
    "def Digits(x):\n",
    "    d=1\n",
    "    if (x>=10):\n",
    "        d=d+1\n",
    "    if (x>=100):\n",
    "        d=d+1\n",
    "    if (x>=1000):\n",
    "        d=d+1\n",
    "    if (x>=10000):\n",
    "        d=d+1\n",
    "    return(d)\n",
    "Digits(123)"
   ]
  },
  {
   "cell_type": "code",
   "execution_count": 1,
   "id": "1c69b059",
   "metadata": {},
   "outputs": [
    {
     "name": "stdout",
     "output_type": "stream",
     "text": [
      "-3\n"
     ]
    }
   ],
   "source": [
    "a=10 // 3\n",
    "b=-a\n",
    "c=+b\n",
    "\n",
    "print(c)\n",
    "c=0"
   ]
  },
  {
   "cell_type": "markdown",
   "id": "b742d5e0",
   "metadata": {},
   "source": [
    "# Decorator"
   ]
  },
  {
   "cell_type": "code",
   "execution_count": 15,
   "id": "4b90db15",
   "metadata": {},
   "outputs": [
    {
     "name": "stdout",
     "output_type": "stream",
     "text": [
      "Before function\n",
      "In the F3\n",
      "after function\n"
     ]
    }
   ],
   "source": [
    "def f1(f):\n",
    "    def f2():\n",
    "        print(\"Before function\")\n",
    "        f()\n",
    "        print(\"after function\")\n",
    "    return f2\n",
    "\n",
    "@f1\n",
    "def f3():\n",
    "    print(\"In the F3\")\n",
    "    \n",
    "f3()"
   ]
  },
  {
   "cell_type": "code",
   "execution_count": 17,
   "id": "299e77c1",
   "metadata": {},
   "outputs": [
    {
     "data": {
      "text/plain": [
       "['X', '-', '-', 'X']"
      ]
     },
     "execution_count": 17,
     "metadata": {},
     "output_type": "execute_result"
    }
   ],
   "source": [
    "x = ['-','-','X','X']\n",
    "x.insert(0,x.pop())\n",
    "x"
   ]
  },
  {
   "cell_type": "code",
   "execution_count": 20,
   "id": "6d5eeda0",
   "metadata": {},
   "outputs": [
    {
     "name": "stdout",
     "output_type": "stream",
     "text": [
      "{'o', 'h', 'e', 'l'}\n",
      "{'r', 'd', 'w', 'o', 'l'}\n"
     ]
    },
    {
     "data": {
      "text/plain": [
       "{'e', 'h'}"
      ]
     },
     "execution_count": 20,
     "metadata": {},
     "output_type": "execute_result"
    }
   ],
   "source": [
    "x=set('hello')\n",
    "y=set('world')\n",
    "print(x)\n",
    "print(y)\n",
    "x-y"
   ]
  },
  {
   "cell_type": "code",
   "execution_count": 44,
   "id": "eb46004b",
   "metadata": {},
   "outputs": [
    {
     "name": "stdout",
     "output_type": "stream",
     "text": [
      "I'm from  Animal and STR func\n",
      "System-Erro division by zero\n"
     ]
    }
   ],
   "source": [
    "import sys\n",
    "\n",
    "class Animal:\n",
    "#     def __init__(self):\n",
    "#         print(\"This Animal class construtor\")\n",
    "    def duck(self):\n",
    "        print(\"Quack Quack\")\n",
    "    def dog(self):\n",
    "        print(\"bark\")\n",
    "    def __str__(self):\n",
    "        return \"I'm from  Animal and STR func\"\n",
    "    \n",
    "obj = Animal()\n",
    "print(obj)\n",
    "\n",
    "\n",
    "\n",
    "try:\n",
    "    x = 1/0\n",
    "except ZeroDivisionError as e:\n",
    "    print(\"System-Erro\",e)\n",
    "except :\n",
    "    print(\"Unknown Error\")    "
   ]
  },
  {
   "cell_type": "markdown",
   "id": "fed4bb5c",
   "metadata": {},
   "source": [
    "# String Object"
   ]
  },
  {
   "cell_type": "code",
   "execution_count": 1,
   "id": "a25e2d25",
   "metadata": {},
   "outputs": [
    {
     "name": "stdout",
     "output_type": "stream",
     "text": [
      "1:aKASH aGRAWAL\n",
      "2: Hello world 4\n",
      "3 :Hello world 28\n",
      "4:HELLO WORLD\n",
      "5:hello world\n",
      "Hello world 6\n"
     ]
    }
   ],
   "source": [
    "print(\"1:Akash Agrawal\".swapcase())\n",
    "print(\"2: Hello world {}\".format(4))\n",
    "print(\"3 :Hello world {}\".format(21+7))\n",
    "print(\"4:Hello world\".upper())\n",
    "print(\"5:Hello world\".lower())\n",
    "print(\"hello world 6\".capitalize())"
   ]
  },
  {
   "cell_type": "markdown",
   "id": "ce6d4f6b",
   "metadata": {},
   "source": [
    "# Numeric Functions"
   ]
  },
  {
   "cell_type": "code",
   "execution_count": 93,
   "id": "cf5240c1",
   "metadata": {},
   "outputs": [
    {
     "name": "stdout",
     "output_type": "stream",
     "text": [
      "47\n",
      "47\n",
      "<class 'str'>\n",
      "<class 'int'>\n",
      "2188342703152\n",
      "2188289666800\n",
      "nt\n",
      "75\n"
     ]
    }
   ],
   "source": [
    "x = '47'\n",
    "y = int(x)\n",
    "\n",
    "print(x)\n",
    "print(y)\n",
    "print(type(x))\n",
    "print(type(y))\n",
    "print(id(x))\n",
    "print(id(y))\n",
    "\n",
    "import sys\n",
    "import os\n",
    "import random\n",
    "\n",
    "sys.version_info\n",
    "print(os.name)\n",
    "# print(os.getenv('PATH'))\n",
    "print(random.randrange(1.0,100.0))"
   ]
  }
 ],
 "metadata": {
  "kernelspec": {
   "display_name": "Python 3 (ipykernel)",
   "language": "python",
   "name": "python3"
  },
  "language_info": {
   "codemirror_mode": {
    "name": "ipython",
    "version": 3
   },
   "file_extension": ".py",
   "mimetype": "text/x-python",
   "name": "python",
   "nbconvert_exporter": "python",
   "pygments_lexer": "ipython3",
   "version": "3.9.7"
  }
 },
 "nbformat": 4,
 "nbformat_minor": 5
}
