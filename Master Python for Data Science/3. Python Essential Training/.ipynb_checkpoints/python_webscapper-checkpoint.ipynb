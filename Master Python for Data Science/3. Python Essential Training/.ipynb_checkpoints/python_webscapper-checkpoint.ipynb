{
 "cells": [
  {
   "cell_type": "markdown",
   "id": "580657d6",
   "metadata": {},
   "source": [
    "# Data Preparation Basic"
   ]
  },
  {
   "cell_type": "code",
   "execution_count": 1,
   "id": "e18a214f",
   "metadata": {},
   "outputs": [],
   "source": [
    "import pandas as pd\n",
    "import numpy as np\n",
    "\n",
    "from pandas import Series,DataFrame"
   ]
  },
  {
   "cell_type": "markdown",
   "id": "63b0c93d",
   "metadata": {},
   "source": [
    "# Selecting and Retreviing data"
   ]
  },
  {
   "cell_type": "code",
   "execution_count": 6,
   "id": "0e19d6c5",
   "metadata": {},
   "outputs": [
    {
     "data": {
      "text/plain": [
       "row1    0\n",
       "row2    1\n",
       "row3    2\n",
       "row4    3\n",
       "row5    4\n",
       "row6    5\n",
       "row7    6\n",
       "row8    7\n",
       "dtype: int32"
      ]
     },
     "execution_count": 6,
     "metadata": {},
     "output_type": "execute_result"
    }
   ],
   "source": [
    "series_obj = Series(np.arange(8),index=['row1','row2','row3','row4','row5','row6','row7','row8'])\n",
    "series_obj"
   ]
  },
  {
   "cell_type": "code",
   "execution_count": 7,
   "id": "3a836368",
   "metadata": {},
   "outputs": [
    {
     "data": {
      "text/plain": [
       "6"
      ]
     },
     "execution_count": 7,
     "metadata": {},
     "output_type": "execute_result"
    }
   ],
   "source": [
    "series_obj['row7']"
   ]
  },
  {
   "cell_type": "code",
   "execution_count": null,
   "id": "b32b5605",
   "metadata": {},
   "outputs": [],
   "source": []
  }
 ],
 "metadata": {
  "kernelspec": {
   "display_name": "Python 3 (ipykernel)",
   "language": "python",
   "name": "python3"
  },
  "language_info": {
   "codemirror_mode": {
    "name": "ipython",
    "version": 3
   },
   "file_extension": ".py",
   "mimetype": "text/x-python",
   "name": "python",
   "nbconvert_exporter": "python",
   "pygments_lexer": "ipython3",
   "version": "3.9.7"
  }
 },
 "nbformat": 4,
 "nbformat_minor": 5
}
