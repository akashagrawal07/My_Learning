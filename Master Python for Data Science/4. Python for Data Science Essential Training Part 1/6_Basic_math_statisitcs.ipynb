{
 "cells": [
  {
   "cell_type": "markdown",
   "id": "0b98ce12",
   "metadata": {},
   "source": [
    "# BASIC MATH AND STATISTICS"
   ]
  },
  {
   "cell_type": "markdown",
   "id": "e0b39360",
   "metadata": {},
   "source": [
    "# 1. Using Numpy to Perform arithimeti operation on data"
   ]
  },
  {
   "cell_type": "code",
   "execution_count": 8,
   "id": "90253019",
   "metadata": {},
   "outputs": [],
   "source": [
    "import numpy as np\n",
    "from numpy.random import rand"
   ]
  },
  {
   "cell_type": "code",
   "execution_count": 6,
   "id": "8235dca8",
   "metadata": {},
   "outputs": [],
   "source": [
    "np.set_printoptions(precision=2)\n"
   ]
  },
  {
   "cell_type": "markdown",
   "id": "7bc2e8e3",
   "metadata": {},
   "source": [
    "# Creating Arrays using list"
   ]
  },
  {
   "cell_type": "code",
   "execution_count": 10,
   "id": "49f7b2b8",
   "metadata": {},
   "outputs": [
    {
     "data": {
      "text/plain": [
       "array([1, 2, 3, 4, 5, 6])"
      ]
     },
     "execution_count": 10,
     "metadata": {},
     "output_type": "execute_result"
    }
   ],
   "source": [
    "a = np.array([1,2,3,4,5,6])\n",
    "a"
   ]
  },
  {
   "cell_type": "code",
   "execution_count": 12,
   "id": "065cf914",
   "metadata": {},
   "outputs": [
    {
     "data": {
      "text/plain": [
       "array([[10, 20, 30],\n",
       "       [40, 50, 60]])"
      ]
     },
     "execution_count": 12,
     "metadata": {},
     "output_type": "execute_result"
    }
   ],
   "source": [
    "b = np.array([[10,20,30],[40,50,60]])\n",
    "b"
   ]
  },
  {
   "cell_type": "code",
   "execution_count": 22,
   "id": "a20fbf65",
   "metadata": {},
   "outputs": [
    {
     "data": {
      "text/plain": [
       "array([31.32, 20.96, 10.04,  6.69, 14.8 ,  4.23])"
      ]
     },
     "execution_count": 22,
     "metadata": {},
     "output_type": "execute_result"
    }
   ],
   "source": [
    "np.random.seed(25)\n",
    "c= 36 *np.random.rand(6)\n",
    "c\n"
   ]
  },
  {
   "cell_type": "code",
   "execution_count": 24,
   "id": "919857e3",
   "metadata": {},
   "outputs": [
    {
     "data": {
      "text/plain": [
       "array([ 1,  2,  3,  4,  5,  6,  7,  8,  9, 10, 11, 12, 13, 14, 15, 16, 17,\n",
       "       18, 19, 20, 21, 22, 23, 24, 25, 26, 27, 28, 29, 30, 31, 32, 33, 34])"
      ]
     },
     "execution_count": 24,
     "metadata": {},
     "output_type": "execute_result"
    }
   ],
   "source": [
    "d = np.arange(1,35)\n",
    "d"
   ]
  },
  {
   "cell_type": "markdown",
   "id": "b1604dec",
   "metadata": {},
   "source": [
    "# Performing arthimetic on arrays"
   ]
  },
  {
   "cell_type": "code",
   "execution_count": 27,
   "id": "87d48cac",
   "metadata": {},
   "outputs": [
    {
     "data": {
      "text/plain": [
       "array([10, 20, 30, 40, 50, 60])"
      ]
     },
     "execution_count": 27,
     "metadata": {},
     "output_type": "execute_result"
    }
   ],
   "source": [
    "a*10"
   ]
  },
  {
   "cell_type": "code",
   "execution_count": 26,
   "id": "515e0e62",
   "metadata": {},
   "outputs": [
    {
     "data": {
      "text/plain": [
       "array([32.32, 22.96, 13.04, 10.69, 19.8 , 10.23])"
      ]
     },
     "execution_count": 26,
     "metadata": {},
     "output_type": "execute_result"
    }
   ],
   "source": [
    "c+a"
   ]
  },
  {
   "cell_type": "code",
   "execution_count": 29,
   "id": "c903fc51",
   "metadata": {},
   "outputs": [
    {
     "data": {
      "text/plain": [
       "array([31.32, 41.92, 30.11, 26.77, 74.  , 25.35])"
      ]
     },
     "execution_count": 29,
     "metadata": {},
     "output_type": "execute_result"
    }
   ],
   "source": [
    "c*a"
   ]
  },
  {
   "cell_type": "code",
   "execution_count": 30,
   "id": "37d67584",
   "metadata": {},
   "outputs": [
    {
     "data": {
      "text/plain": [
       "array([31.32, 10.48,  3.35,  1.67,  2.96,  0.7 ])"
      ]
     },
     "execution_count": 30,
     "metadata": {},
     "output_type": "execute_result"
    }
   ],
   "source": [
    "c/a"
   ]
  },
  {
   "cell_type": "markdown",
   "id": "6f749a05",
   "metadata": {},
   "source": [
    "#  Multiplying and matrices and basic linear algebra"
   ]
  },
  {
   "cell_type": "code",
   "execution_count": 31,
   "id": "4dfddc0c",
   "metadata": {},
   "outputs": [
    {
     "data": {
      "text/plain": [
       "array([[ 2,  4,  6],\n",
       "       [ 1,  3,  5],\n",
       "       [10, 20, 30]])"
      ]
     },
     "execution_count": 31,
     "metadata": {},
     "output_type": "execute_result"
    }
   ],
   "source": [
    "aa = np.array([[2,4,6],[1,3,5],[10,20,30]])\n",
    "aa"
   ]
  },
  {
   "cell_type": "code",
   "execution_count": 32,
   "id": "acf9d66b",
   "metadata": {},
   "outputs": [
    {
     "data": {
      "text/plain": [
       "array([[0, 1, 2],\n",
       "       [3, 4, 5],\n",
       "       [6, 7, 8]])"
      ]
     },
     "execution_count": 32,
     "metadata": {},
     "output_type": "execute_result"
    }
   ],
   "source": [
    "bb = np.array([[0,1,2],[3,4,5],[6,7,8]])\n",
    "bb"
   ]
  },
  {
   "cell_type": "code",
   "execution_count": 33,
   "id": "731393f5",
   "metadata": {},
   "outputs": [
    {
     "data": {
      "text/plain": [
       "array([[  0,   4,  12],\n",
       "       [  3,  12,  25],\n",
       "       [ 60, 140, 240]])"
      ]
     },
     "execution_count": 33,
     "metadata": {},
     "output_type": "execute_result"
    }
   ],
   "source": [
    "aa * bb"
   ]
  },
  {
   "cell_type": "code",
   "execution_count": 35,
   "id": "0f3d6e00",
   "metadata": {},
   "outputs": [
    {
     "data": {
      "text/plain": [
       "array([[ 48,  60,  72],\n",
       "       [ 39,  48,  57],\n",
       "       [240, 300, 360]])"
      ]
     },
     "execution_count": 35,
     "metadata": {},
     "output_type": "execute_result"
    }
   ],
   "source": [
    "np.dot(aa,bb)"
   ]
  },
  {
   "cell_type": "markdown",
   "id": "8a0d8040",
   "metadata": {},
   "source": [
    "# 2. Generating Summary Statistics"
   ]
  },
  {
   "cell_type": "code",
   "execution_count": null,
   "id": "f4939c02",
   "metadata": {},
   "outputs": [],
   "source": [
    "import scipy \n",
    "from scipy import stats"
   ]
  },
  {
   "cell_type": "code",
   "execution_count": null,
   "id": "aece4155",
   "metadata": {},
   "outputs": [],
   "source": []
  }
 ],
 "metadata": {
  "kernelspec": {
   "display_name": "Python 3 (ipykernel)",
   "language": "python",
   "name": "python3"
  },
  "language_info": {
   "codemirror_mode": {
    "name": "ipython",
    "version": 3
   },
   "file_extension": ".py",
   "mimetype": "text/x-python",
   "name": "python",
   "nbconvert_exporter": "python",
   "pygments_lexer": "ipython3",
   "version": "3.9.7"
  }
 },
 "nbformat": 4,
 "nbformat_minor": 5
}
