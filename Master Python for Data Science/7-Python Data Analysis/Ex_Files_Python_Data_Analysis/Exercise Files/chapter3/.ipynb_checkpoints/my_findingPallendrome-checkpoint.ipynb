{
 "cells": [
  {
   "cell_type": "code",
   "execution_count": 1,
   "id": "7b3b21ac",
   "metadata": {},
   "outputs": [],
   "source": [
    "import math\n",
    "import collections\n",
    "\n",
    "import numpy as np\n",
    "import pandas as pd\n",
    "import matplotlib.pyplot as pp\n",
    "\n",
    "%matplotlib inline"
   ]
  },
  {
   "cell_type": "code",
   "execution_count": 2,
   "id": "a222ddb4",
   "metadata": {},
   "outputs": [],
   "source": [
    "words = sorted({line.strip().lower() for line in open('words.txt', 'r')})"
   ]
  },
  {
   "cell_type": "code",
   "execution_count": 8,
   "id": "a0d149a1",
   "metadata": {},
   "outputs": [],
   "source": [
    "r = 'reward'\n",
    "d = 'drawer'"
   ]
  },
  {
   "cell_type": "code",
   "execution_count": 9,
   "id": "4f334ae1",
   "metadata": {},
   "outputs": [
    {
     "data": {
      "text/plain": [
       "'reward'"
      ]
     },
     "execution_count": 9,
     "metadata": {},
     "output_type": "execute_result"
    }
   ],
   "source": [
    "r[:len(r)]"
   ]
  },
  {
   "cell_type": "code",
   "execution_count": 35,
   "id": "4bf18fba",
   "metadata": {},
   "outputs": [
    {
     "data": {
      "text/plain": [
       "'reward'"
      ]
     },
     "execution_count": 35,
     "metadata": {},
     "output_type": "execute_result"
    }
   ],
   "source": [
    "temp = ''.join([d[i] for i in range(len(d)-1,-1,-1)])\n",
    "''.join(temp)"
   ]
  },
  {
   "cell_type": "raw",
   "id": "142dfa55",
   "metadata": {},
   "source": []
  },
  {
   "cell_type": "code",
   "execution_count": 52,
   "id": "1c53b3cf",
   "metadata": {},
   "outputs": [
    {
     "data": {
      "text/plain": [
       "(True, 'pot')"
      ]
     },
     "execution_count": 52,
     "metadata": {},
     "output_type": "execute_result"
    }
   ],
   "source": [
    "\n",
    "def findPalindrome(word):\n",
    "    palinofword = str(''.join([word[i] for i in range(len(word)-1,-1,-1)]))\n",
    "#     print(word,palinofword)\n",
    "    return word in words and palinofword in words,palinofword\n",
    "\n",
    "findPalindrome('top')"
   ]
  },
  {
   "cell_type": "code",
   "execution_count": null,
   "id": "1f92e171",
   "metadata": {},
   "outputs": [],
   "source": [
    "words_by_palndrone = collections.defaultdict(set)\n",
    "\n",
    "for word in words:\n",
    "    flag,palinofword = findPalindrome(word)\n",
    "    if flag:\n",
    "        print(flag,word)\n",
    "        words_by_palndrone[word].add(word)"
   ]
  },
  {
   "cell_type": "code",
   "execution_count": null,
   "id": "0a15b75c",
   "metadata": {},
   "outputs": [],
   "source": [
    "words_by_palndrone"
   ]
  },
  {
   "cell_type": "code",
   "execution_count": null,
   "id": "80ee757f",
   "metadata": {},
   "outputs": [],
   "source": []
  },
  {
   "cell_type": "code",
   "execution_count": null,
   "id": "6e6d5e7b",
   "metadata": {},
   "outputs": [],
   "source": []
  }
 ],
 "metadata": {
  "kernelspec": {
   "display_name": "Python 3 (ipykernel)",
   "language": "python",
   "name": "python3"
  },
  "language_info": {
   "codemirror_mode": {
    "name": "ipython",
    "version": 3
   },
   "file_extension": ".py",
   "mimetype": "text/x-python",
   "name": "python",
   "nbconvert_exporter": "python",
   "pygments_lexer": "ipython3",
   "version": "3.9.7"
  }
 },
 "nbformat": 4,
 "nbformat_minor": 5
}
