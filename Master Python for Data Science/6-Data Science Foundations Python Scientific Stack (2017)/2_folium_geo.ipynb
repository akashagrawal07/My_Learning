{
 "cells": [
  {
   "cell_type": "markdown",
   "id": "7f4f20ea",
   "metadata": {},
   "source": [
    "# Folium and Geo"
   ]
  },
  {
   "cell_type": "code",
   "execution_count": 2,
   "id": "9db8a11a",
   "metadata": {},
   "outputs": [],
   "source": [
    "import folium"
   ]
  },
  {
   "cell_type": "code",
   "execution_count": null,
   "id": "edd4bbcc",
   "metadata": {},
   "outputs": [],
   "source": [
    "m = folium.Map(location=)"
   ]
  }
 ],
 "metadata": {
  "kernelspec": {
   "display_name": "Python 3 (ipykernel)",
   "language": "python",
   "name": "python3"
  },
  "language_info": {
   "codemirror_mode": {
    "name": "ipython",
    "version": 3
   },
   "file_extension": ".py",
   "mimetype": "text/x-python",
   "name": "python",
   "nbconvert_exporter": "python",
   "pygments_lexer": "ipython3",
   "version": "3.9.7"
  }
 },
 "nbformat": 4,
 "nbformat_minor": 5
}
