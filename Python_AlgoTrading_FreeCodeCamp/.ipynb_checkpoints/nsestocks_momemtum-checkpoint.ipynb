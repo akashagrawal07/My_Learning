{
 "cells": [
  {
   "cell_type": "code",
   "execution_count": 119,
   "id": "f7831c71",
   "metadata": {},
   "outputs": [],
   "source": [
    "import pandas as pd\n",
    "import os\n",
    "\n",
    "date = '11'\n",
    "\n",
    "TODAY_FILE = 'NSE_EQUITY_DATA\\cm' + date + 'MAR2022bhav.csv'\n",
    "TODAY_DATE = date + '/03/2022'\n",
    "FILENAME = 'nse_stocks_closeprice.csv'"
   ]
  },
  {
   "cell_type": "code",
   "execution_count": 120,
   "id": "aeccf242",
   "metadata": {},
   "outputs": [
    {
     "data": {
      "text/html": [
       "<div>\n",
       "<style scoped>\n",
       "    .dataframe tbody tr th:only-of-type {\n",
       "        vertical-align: middle;\n",
       "    }\n",
       "\n",
       "    .dataframe tbody tr th {\n",
       "        vertical-align: top;\n",
       "    }\n",
       "\n",
       "    .dataframe thead th {\n",
       "        text-align: right;\n",
       "    }\n",
       "</style>\n",
       "<table border=\"1\" class=\"dataframe\">\n",
       "  <thead>\n",
       "    <tr style=\"text-align: right;\">\n",
       "      <th></th>\n",
       "      <th>SYMBOL</th>\n",
       "      <th>NAME OF COMPANY</th>\n",
       "      <th>SERIES</th>\n",
       "      <th>DATE OF LISTING</th>\n",
       "      <th>PAID UP VALUE</th>\n",
       "      <th>MARKET LOT</th>\n",
       "      <th>ISIN NUMBER</th>\n",
       "      <th>FACE VALUE</th>\n",
       "    </tr>\n",
       "  </thead>\n",
       "  <tbody>\n",
       "    <tr>\n",
       "      <th>0</th>\n",
       "      <td>20MICRONS</td>\n",
       "      <td>20 Microns Limited</td>\n",
       "      <td>EQ</td>\n",
       "      <td>06-Oct-08</td>\n",
       "      <td>5.0</td>\n",
       "      <td>1</td>\n",
       "      <td>INE144J01027</td>\n",
       "      <td>5</td>\n",
       "    </tr>\n",
       "    <tr>\n",
       "      <th>1</th>\n",
       "      <td>21STCENMGM</td>\n",
       "      <td>21st Century Management Services Limited</td>\n",
       "      <td>EQ</td>\n",
       "      <td>03-May-95</td>\n",
       "      <td>10.0</td>\n",
       "      <td>1</td>\n",
       "      <td>INE253B01015</td>\n",
       "      <td>10</td>\n",
       "    </tr>\n",
       "    <tr>\n",
       "      <th>2</th>\n",
       "      <td>3IINFOLTD</td>\n",
       "      <td>3i Infotech Limited</td>\n",
       "      <td>EQ</td>\n",
       "      <td>22-Oct-21</td>\n",
       "      <td>10.0</td>\n",
       "      <td>1</td>\n",
       "      <td>INE748C01038</td>\n",
       "      <td>10</td>\n",
       "    </tr>\n",
       "    <tr>\n",
       "      <th>3</th>\n",
       "      <td>3MINDIA</td>\n",
       "      <td>3M India Limited</td>\n",
       "      <td>EQ</td>\n",
       "      <td>13-Aug-04</td>\n",
       "      <td>10.0</td>\n",
       "      <td>1</td>\n",
       "      <td>INE470A01017</td>\n",
       "      <td>10</td>\n",
       "    </tr>\n",
       "    <tr>\n",
       "      <th>4</th>\n",
       "      <td>3PLAND</td>\n",
       "      <td>3P Land Holdings Limited</td>\n",
       "      <td>BE</td>\n",
       "      <td>19-Jul-95</td>\n",
       "      <td>2.0</td>\n",
       "      <td>1</td>\n",
       "      <td>INE105C01023</td>\n",
       "      <td>2</td>\n",
       "    </tr>\n",
       "  </tbody>\n",
       "</table>\n",
       "</div>"
      ],
      "text/plain": [
       "       SYMBOL                           NAME OF COMPANY  SERIES  \\\n",
       "0   20MICRONS                        20 Microns Limited      EQ   \n",
       "1  21STCENMGM  21st Century Management Services Limited      EQ   \n",
       "2   3IINFOLTD                       3i Infotech Limited      EQ   \n",
       "3     3MINDIA                          3M India Limited      EQ   \n",
       "4      3PLAND                  3P Land Holdings Limited      BE   \n",
       "\n",
       "   DATE OF LISTING   PAID UP VALUE   MARKET LOT   ISIN NUMBER   FACE VALUE  \n",
       "0        06-Oct-08             5.0            1  INE144J01027            5  \n",
       "1        03-May-95            10.0            1  INE253B01015           10  \n",
       "2        22-Oct-21            10.0            1  INE748C01038           10  \n",
       "3        13-Aug-04            10.0            1  INE470A01017           10  \n",
       "4        19-Jul-95             2.0            1  INE105C01023            2  "
      ]
     },
     "execution_count": 120,
     "metadata": {},
     "output_type": "execute_result"
    }
   ],
   "source": [
    "stocks = pd.read_csv('EQUITY_L.csv')\n",
    "stocks.head()\n",
    "# stocks.set_index(['SYMBOL'],inplace=True)"
   ]
  },
  {
   "cell_type": "code",
   "execution_count": 121,
   "id": "3887b190",
   "metadata": {},
   "outputs": [],
   "source": [
    "stocks.columns\n",
    "stocks.drop([' SERIES', ' DATE OF LISTING',\n",
    "       ' PAID UP VALUE', ' MARKET LOT', ' ISIN NUMBER', ' FACE VALUE'],axis=1,inplace=True)"
   ]
  },
  {
   "cell_type": "code",
   "execution_count": 122,
   "id": "2a0dd279",
   "metadata": {},
   "outputs": [],
   "source": [
    "# stocks.head()"
   ]
  },
  {
   "cell_type": "code",
   "execution_count": 123,
   "id": "aa5a9355",
   "metadata": {},
   "outputs": [],
   "source": [
    "todaydata = pd.read_csv(TODAY_FILE)\n",
    "\n",
    "todaydata.drop(['SERIES', 'OPEN', 'HIGH', 'LOW', 'LAST', 'PREVCLOSE',\n",
    "       'TOTTRDQTY', 'TOTTRDVAL', 'TIMESTAMP', 'TOTALTRADES', 'ISIN',\n",
    "       'Unnamed: 13'],inplace=True,axis=1)\n",
    "\n",
    "todaydata.set_index(['SYMBOL'],inplace=True)\n",
    "# todaydata.head()"
   ]
  },
  {
   "cell_type": "code",
   "execution_count": 124,
   "id": "af751ff8",
   "metadata": {},
   "outputs": [],
   "source": [
    "symbol = ''\n",
    "for i in range(0,1):\n",
    "    symbol = stocks.loc[i][0]\n",
    "# symbol\n",
    "\n",
    "# todaydata.loc[symbol]['CLOSE']"
   ]
  },
  {
   "cell_type": "code",
   "execution_count": 125,
   "id": "25b06670",
   "metadata": {},
   "outputs": [],
   "source": [
    "df  = pd.DataFrame()\n",
    "if os.path.isfile(FILENAME):\n",
    "    df = pd.read_csv(FILENAME)\n",
    "else:\n",
    "    df = stocks.copy()\n",
    "    df[TODAY_DATE] = 0\n",
    "    \n",
    "df.set_index(['SYMBOL'],inplace=True)\n",
    "# df.head()\n"
   ]
  },
  {
   "cell_type": "code",
   "execution_count": 126,
   "id": "a0ab5615",
   "metadata": {},
   "outputs": [],
   "source": [
    "# df.head()"
   ]
  },
  {
   "cell_type": "code",
   "execution_count": 127,
   "id": "8cb83555",
   "metadata": {},
   "outputs": [
    {
     "name": "stdout",
     "output_type": "stream",
     "text": [
      "Symbol is not present- ASTRON\n",
      "Symbol is not present- BRITANNIA\n",
      "Symbol is not present- EUROTEXIND\n",
      "Symbol is not present- HDFC\n",
      "Symbol is not present- HUDCO\n",
      "Symbol is not present- IBULHSGFIN\n",
      "Symbol is not present- IDFCFIRSTB\n",
      "Symbol is not present- IFCI\n",
      "Symbol is not present- IIFL\n",
      "Symbol is not present- IMPEXFERRO\n",
      "Symbol is not present- IRFC\n",
      "Symbol is not present- KALYANI\n",
      "Symbol is not present- MELSTAR\n",
      "Symbol is not present- MOLDTKPAC\n",
      "Symbol is not present- NHPC\n",
      "Symbol is not present- NIRAJISPAT\n",
      "Symbol is not present- NTPC\n",
      "Symbol is not present- PAEL\n",
      "Symbol is not present- PFC\n",
      "Symbol is not present- POONAWALLA\n",
      "Symbol is not present- RAJRILTD\n",
      "Symbol is not present- RECLTD\n",
      "Symbol is not present- RHFL\n",
      "Symbol is not present- SRTRANSFIN\n",
      "Symbol is not present- UGROCAP\n",
      "Symbol is not present- VLIFEPP\n",
      "Symbol is not present- WOCKH-RE\n",
      "Symbol is not present- ZENITHSTL\n"
     ]
    }
   ],
   "source": [
    "symbol = ''\n",
    "for i in range(0,len(stocks)):\n",
    "    try:\n",
    "        symbol = stocks.loc[i][0]\n",
    "        closeprice = todaydata.loc[symbol]['CLOSE']  \n",
    "        df.at[symbol,TODAY_DATE] = float(closeprice)\n",
    "        \n",
    "    except:\n",
    "        print(\"Symbol is not present-\",symbol)\n",
    "    "
   ]
  },
  {
   "cell_type": "code",
   "execution_count": 128,
   "id": "e1475708",
   "metadata": {},
   "outputs": [],
   "source": [
    "df.to_csv(FILENAME)"
   ]
  }
 ],
 "metadata": {
  "kernelspec": {
   "display_name": "Python 3 (ipykernel)",
   "language": "python",
   "name": "python3"
  },
  "language_info": {
   "codemirror_mode": {
    "name": "ipython",
    "version": 3
   },
   "file_extension": ".py",
   "mimetype": "text/x-python",
   "name": "python",
   "nbconvert_exporter": "python",
   "pygments_lexer": "ipython3",
   "version": "3.9.7"
  }
 },
 "nbformat": 4,
 "nbformat_minor": 5
}
